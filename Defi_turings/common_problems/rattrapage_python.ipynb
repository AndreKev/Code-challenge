{
 "cells": [
  {
   "cell_type": "code",
   "execution_count": 49,
   "metadata": {},
   "outputs": [],
   "source": [
    "class Solution:\n",
    "    def __init__(self):\n",
    "        self.known = dict()\n",
    "        self.known[1]   = 1\n",
    "        self.known[89]  = 89\n",
    "\n",
    "    def find(self, n):\n",
    "        if not self.known.get(n, 0):\n",
    "            self.known[n] = self.find(self.sumSquare(n))\n",
    "        return self.known[n]\n",
    "\n",
    "    def sumSquare(self, n):\n",
    "        sumS = 0\n",
    "        while n:\n",
    "            sumS += (n%10)**2\n",
    "            n //= 10\n",
    "        return sumS\n",
    "\n",
    "    def solve(self, n):\n",
    "        nums_to_89 = 0\n",
    "        for i in range(1, n+1):\n",
    "            if self.find(i)==89:\n",
    "                nums_to_89 +=1\n",
    "        return nums_to_89\n",
    "    \n",
    "    def solve2(self, n):\n",
    "        convergence_points = (1, 89)\n",
    "        nums_to_89 = 0\n",
    "        for i in range(1, n+1):\n",
    "            if i in self.known.keys():\n",
    "                continue\n",
    "            else:\n",
    "                stack = set()\n",
    "                while i not in convergence_points:\n",
    "                    stack.add(i)\n",
    "                    i = self.sumSquare(i)\n",
    "                for element in stack:\n",
    "                    self.known[element] = i\n",
    "                if i == 89:\n",
    "                    for element in stack:\n",
    "                        if element < n:\n",
    "                            nums_to_89 += 1\n",
    "        return nums_to_89"
   ]
  },
  {
   "cell_type": "code",
   "execution_count": 51,
   "metadata": {},
   "outputs": [
    {
     "name": "stdout",
     "output_type": "stream",
     "text": [
      "4295844\n"
     ]
    }
   ],
   "source": [
    "\n",
    "if __name__ == \"__main__\":\n",
    "    problem = Solution()\n",
    "    print(problem.solve(5000000))"
   ]
  },
  {
   "cell_type": "code",
   "execution_count": null,
   "metadata": {},
   "outputs": [],
   "source": []
  }
 ],
 "metadata": {
  "kernelspec": {
   "display_name": "Python 3.10.6 64-bit",
   "language": "python",
   "name": "python3"
  },
  "language_info": {
   "codemirror_mode": {
    "name": "ipython",
    "version": 3
   },
   "file_extension": ".py",
   "mimetype": "text/x-python",
   "name": "python",
   "nbconvert_exporter": "python",
   "pygments_lexer": "ipython3",
   "version": "3.10.6"
  },
  "orig_nbformat": 4,
  "vscode": {
   "interpreter": {
    "hash": "e7370f93d1d0cde622a1f8e1c04877d8463912d04d973331ad4851f04de6915a"
   }
  }
 },
 "nbformat": 4,
 "nbformat_minor": 2
}
