{
 "cells": [
  {
   "cell_type": "code",
   "execution_count": 2,
   "metadata": {},
   "outputs": [
    {
     "name": "stdout",
     "output_type": "stream",
     "text": [
      "['bab', 'aba']\n"
     ]
    }
   ],
   "source": [
    "# largest palindrome substring\n",
    "def lps(string: str) -> list[str]:\n",
    "    substrs = []    # contains indexes to the current lps\n",
    "    l, ml = len(string), 0          # length of string and current max substr length\n",
    "    for i in range(l):\n",
    "        # Finding pair substrings\n",
    "        c, j = i, i                 # start, end of the palindrome substring\n",
    "        while c > -1 and j<l and string[c]==string[j]:\n",
    "            c, j = c-1, j+1         # Find the longest palindrome\n",
    "        mt = j-(c+1)    # get the length of the palindrome\n",
    "        if mt > ml:\n",
    "            substrs = [(c+1, j)]; ml = mt   # If we have found a new longest\n",
    "        elif mt == ml:  substrs.append((c+1, j))   # Add the new one to the list\n",
    "        # Finding pair substrings -  Analogical reasoning to previous\n",
    "        c, k = i, i+1\n",
    "        while c > -1 and k<l and string[c]==string[k]:\n",
    "            c, k = c-1, k+1\n",
    "        mt = k-(c+1)\n",
    "        if mt > ml:\n",
    "            substrs = [(c+1, k)]; ml = mt\n",
    "        elif mt == ml:  substrs.append((c+1, j))    # Add te new one to the list\n",
    "    return list(map(lambda pos: string[pos[0]:pos[1]], substrs))\n",
    "\n",
    "lps(\"babad\")"
   ]
  },
  {
   "cell_type": "code",
   "execution_count": 3,
   "metadata": {},
   "outputs": [
    {
     "name": "stdout",
     "output_type": "stream",
     "text": [
      "['bab', 'aba']\n"
     ]
    }
   ],
   "source": [
    "string = \"babad\"\n",
    "lps(string)     # largest palindrome substring"
   ]
  }
 ],
 "metadata": {
  "kernelspec": {
   "display_name": "Python 3.10.6 64-bit",
   "language": "python",
   "name": "python3"
  },
  "language_info": {
   "codemirror_mode": {
    "name": "ipython",
    "version": 3
   },
   "file_extension": ".py",
   "mimetype": "text/x-python",
   "name": "python",
   "nbconvert_exporter": "python",
   "pygments_lexer": "ipython3",
   "version": "3.10.6"
  },
  "orig_nbformat": 4,
  "vscode": {
   "interpreter": {
    "hash": "e7370f93d1d0cde622a1f8e1c04877d8463912d04d973331ad4851f04de6915a"
   }
  }
 },
 "nbformat": 4,
 "nbformat_minor": 2
}
