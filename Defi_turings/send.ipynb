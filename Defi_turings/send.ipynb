{
 "cells": [
  {
   "cell_type": "code",
   "execution_count": 1,
   "metadata": {},
   "outputs": [
    {
     "data": {
      "text/plain": [
       "9469"
      ]
     },
     "execution_count": 1,
     "metadata": {},
     "output_type": "execute_result"
    }
   ],
   "source": [
    "def ex_stern(N):\n",
    "    n = N//2\n",
    "    stern = [0,1]\n",
    "    k =1\n",
    "    while k<=n:\n",
    "        stern.append(stern[k])\n",
    "        stern.append(stern[k]+stern[k+1])\n",
    "        k += 1\n",
    "    return stern[N]\n",
    "ex_stern(10000001)"
   ]
  }
 ],
 "metadata": {
  "kernelspec": {
   "display_name": "Python 3.8.8 ('base')",
   "language": "python",
   "name": "python3"
  },
  "language_info": {
   "name": "python",
   "version": "3.8.8"
  },
  "orig_nbformat": 4,
  "vscode": {
   "interpreter": {
    "hash": "105d166f9a25b09cdb12f585dc812aa6e3b93394f3737cf45fc54c58a30387fd"
   }
  }
 },
 "nbformat": 4,
 "nbformat_minor": 2
}
