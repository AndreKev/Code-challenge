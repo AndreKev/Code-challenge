{
 "cells": [
  {
   "cell_type": "markdown",
   "metadata": {},
   "source": [
    "### Exercice 1"
   ]
  },
  {
   "cell_type": "markdown",
   "metadata": {},
   "source": [
    "## 1. Suite de seracuse"
   ]
  },
  {
   "cell_type": "code",
   "execution_count": 1,
   "metadata": {},
   "outputs": [
    {
     "name": "stdout",
     "output_type": "stream",
     "text": [
      "81 244 122 61 184 92 46 23 70 35 106 53 160 80 40 20 10 5 16 8 4 2 1\n"
     ]
    }
   ],
   "source": [
    "class Problem1:\n",
    "    def __init__(self):\n",
    "        self.length = dict()\n",
    "        self.orbit = dict()\n",
    "        index = None\n",
    "    \n",
    "    def find_and_store(self, number):\n",
    "        if number == 1:\n",
    "            return 1\n",
    "        if self.length.get(number, 0)<2:\n",
    "            self.length[number] = 1 + self.find_and_store(self.next(number))\n",
    "        return self.length[number]\n",
    "    \n",
    "    def list_and_store(self, number):\n",
    "        if number == 1:\n",
    "            return [1]\n",
    "        if self.orbit.get(number, []) == []:\n",
    "            self.orbit[number] = [number] + self.list_and_store(self.next(number))\n",
    "        return self.orbit[number]\n",
    "\n",
    "    def next(self, current):\n",
    "        return 3*current+1 if current%2 else current//2\n",
    "\n",
    "problem = Problem1()\n",
    "\n",
    "# Solve\n",
    "print(*problem.list_and_store(81))"
   ]
  },
  {
   "cell_type": "markdown",
   "metadata": {},
   "source": [
    "### 2. Somme des nombres truncables"
   ]
  },
  {
   "cell_type": "code",
   "execution_count": 1,
   "metadata": {},
   "outputs": [],
   "source": [
    "# Function to check that a number is truncable\n",
    "def is_truncable(N):\n",
    "    if N<10:\n",
    "        return False\n",
    "    global primes\n",
    "    # truncate left\n",
    "    def segment_left(N):\n",
    "        numbers = []\n",
    "        k = 0\n",
    "        div = N//(10**k)\n",
    "        while (div!=0):\n",
    "            numbers.append(div)\n",
    "            k += 1\n",
    "            div = N//(10**k)\n",
    "        return numbers\n",
    "    # Truncate right\n",
    "    def segment_right(N):\n",
    "        numbers = []\n",
    "        k = 1\n",
    "        remainder = N % (10**k)\n",
    "        while remainder != N:\n",
    "            numbers.append(remainder)\n",
    "            k += 1\n",
    "            remainder = N % (10**k)\n",
    "        return numbers\n",
    "    numbers = segment_left(N)+ segment_right(N)\n",
    "    for number in numbers:\n",
    "        if number not in primes:\n",
    "            return 0\n",
    "    else:\n",
    "        return 1"
   ]
  },
  {
   "cell_type": "code",
   "execution_count": 8,
   "metadata": {},
   "outputs": [
    {
     "name": "stdout",
     "output_type": "stream",
     "text": [
      "23 is truncable\n",
      "La somme est : 23\n"
     ]
    }
   ],
   "source": [
    "# Exercice 1.2 Final solution\n",
    "def exercice2(nombre, MIN=0):\n",
    "    global primes\n",
    "    primes = [2]\n",
    "    N = 3\n",
    "    found = 0\n",
    "    SUM = 0\n",
    "    while found != nombre:\n",
    "        rootn = N **0.5\n",
    "        i = 0\n",
    "        L = len(primes)\n",
    "        is_prime = True\n",
    "        while i<L and primes[i]<= rootn and is_prime:\n",
    "            if N%primes[i] == 0:\n",
    "                is_prime = False\n",
    "            i += 1\n",
    "        if is_prime:\n",
    "            primes.append(N)\n",
    "            if is_truncable(N) and N >= MIN:\n",
    "                SUM += N\n",
    "                found += 1\n",
    "                print(N, \"is truncable\")\n",
    "        N += 2\n",
    "    return SUM\n",
    "\n",
    "# Test de l'exercice2 - Resultat attendu 3797\n",
    "print(\"La somme est :\", exercice2(1, MIN=0))\n",
    "# Resultat obtenu 23. Il y'a donc une erreur dans l'enonce car 23 est bien troncalble."
   ]
  },
  {
   "cell_type": "code",
   "execution_count": 7,
   "metadata": {},
   "outputs": [
    {
     "name": "stdout",
     "output_type": "stream",
     "text": [
      "23 is truncable\n",
      "37 is truncable\n",
      "53 is truncable\n",
      "73 is truncable\n",
      "313 is truncable\n",
      "317 is truncable\n",
      "373 is truncable\n",
      "797 is truncable\n",
      "3137 is truncable\n",
      "3797 is truncable\n"
     ]
    },
    {
     "ename": "KeyboardInterrupt",
     "evalue": "",
     "output_type": "error",
     "traceback": [
      "\u001b[0;31m---------------------------------------------------------------------------\u001b[0m",
      "\u001b[0;31mKeyboardInterrupt\u001b[0m                         Traceback (most recent call last)",
      "\u001b[0;32m<ipython-input-7-df26cceacc35>\u001b[0m in \u001b[0;36m<module>\u001b[0;34m\u001b[0m\n\u001b[1;32m      1\u001b[0m \u001b[0;31m# En imposant le min a 0:\u001b[0m\u001b[0;34m\u001b[0m\u001b[0;34m\u001b[0m\u001b[0;34m\u001b[0m\u001b[0m\n\u001b[0;32m----> 2\u001b[0;31m \u001b[0mprint\u001b[0m\u001b[0;34m(\u001b[0m\u001b[0;34m\"La somme est :\"\u001b[0m\u001b[0;34m,\u001b[0m \u001b[0mexercice2\u001b[0m\u001b[0;34m(\u001b[0m\u001b[0;36m11\u001b[0m\u001b[0;34m,\u001b[0m \u001b[0mMIN\u001b[0m\u001b[0;34m=\u001b[0m\u001b[0;36m0\u001b[0m\u001b[0;34m)\u001b[0m\u001b[0;34m)\u001b[0m\u001b[0;34m\u001b[0m\u001b[0;34m\u001b[0m\u001b[0m\n\u001b[0m",
      "\u001b[0;32m<ipython-input-5-13a041e95c7d>\u001b[0m in \u001b[0;36mexercice2\u001b[0;34m(nombre, MIN)\u001b[0m\n\u001b[1;32m     17\u001b[0m         \u001b[0;32mif\u001b[0m \u001b[0mis_prime\u001b[0m\u001b[0;34m:\u001b[0m\u001b[0;34m\u001b[0m\u001b[0;34m\u001b[0m\u001b[0m\n\u001b[1;32m     18\u001b[0m             \u001b[0mprimes\u001b[0m\u001b[0;34m.\u001b[0m\u001b[0mappend\u001b[0m\u001b[0;34m(\u001b[0m\u001b[0mN\u001b[0m\u001b[0;34m)\u001b[0m\u001b[0;34m\u001b[0m\u001b[0;34m\u001b[0m\u001b[0m\n\u001b[0;32m---> 19\u001b[0;31m             \u001b[0;32mif\u001b[0m \u001b[0mis_truncable\u001b[0m\u001b[0;34m(\u001b[0m\u001b[0mN\u001b[0m\u001b[0;34m)\u001b[0m \u001b[0;32mand\u001b[0m \u001b[0mN\u001b[0m \u001b[0;34m>=\u001b[0m \u001b[0mMIN\u001b[0m\u001b[0;34m:\u001b[0m\u001b[0;34m\u001b[0m\u001b[0;34m\u001b[0m\u001b[0m\n\u001b[0m\u001b[1;32m     20\u001b[0m                 \u001b[0mSUM\u001b[0m \u001b[0;34m+=\u001b[0m \u001b[0mN\u001b[0m\u001b[0;34m\u001b[0m\u001b[0;34m\u001b[0m\u001b[0m\n\u001b[1;32m     21\u001b[0m                 \u001b[0mfound\u001b[0m \u001b[0;34m+=\u001b[0m \u001b[0;36m1\u001b[0m\u001b[0;34m\u001b[0m\u001b[0;34m\u001b[0m\u001b[0m\n",
      "\u001b[0;32m<ipython-input-1-adc6816d05e0>\u001b[0m in \u001b[0;36mis_truncable\u001b[0;34m(N)\u001b[0m\n\u001b[1;32m     26\u001b[0m     \u001b[0mnumbers\u001b[0m \u001b[0;34m=\u001b[0m \u001b[0msegment_left\u001b[0m\u001b[0;34m(\u001b[0m\u001b[0mN\u001b[0m\u001b[0;34m)\u001b[0m\u001b[0;34m+\u001b[0m \u001b[0msegment_right\u001b[0m\u001b[0;34m(\u001b[0m\u001b[0mN\u001b[0m\u001b[0;34m)\u001b[0m\u001b[0;34m\u001b[0m\u001b[0;34m\u001b[0m\u001b[0m\n\u001b[1;32m     27\u001b[0m     \u001b[0;32mfor\u001b[0m \u001b[0mnumber\u001b[0m \u001b[0;32min\u001b[0m \u001b[0mnumbers\u001b[0m\u001b[0;34m:\u001b[0m\u001b[0;34m\u001b[0m\u001b[0;34m\u001b[0m\u001b[0m\n\u001b[0;32m---> 28\u001b[0;31m         \u001b[0;32mif\u001b[0m \u001b[0mnumber\u001b[0m \u001b[0;32mnot\u001b[0m \u001b[0;32min\u001b[0m \u001b[0mprimes\u001b[0m\u001b[0;34m:\u001b[0m\u001b[0;34m\u001b[0m\u001b[0;34m\u001b[0m\u001b[0m\n\u001b[0m\u001b[1;32m     29\u001b[0m             \u001b[0;32mreturn\u001b[0m \u001b[0;36m0\u001b[0m\u001b[0;34m\u001b[0m\u001b[0;34m\u001b[0m\u001b[0m\n\u001b[1;32m     30\u001b[0m     \u001b[0;32melse\u001b[0m\u001b[0;34m:\u001b[0m\u001b[0;34m\u001b[0m\u001b[0;34m\u001b[0m\u001b[0m\n",
      "\u001b[0;31mKeyboardInterrupt\u001b[0m: "
     ]
    }
   ],
   "source": [
    "# En imposant le min a 0:\n",
    "print(\"La somme est :\", exercice2(11, MIN=0))"
   ]
  },
  {
   "cell_type": "code",
   "execution_count": null,
   "metadata": {},
   "outputs": [],
   "source": [
    "# En imposant le min a 3797 suivant l'enonce\n",
    "print(\"La somme est :\", exercice2(11, MIN=3797))"
   ]
  },
  {
   "cell_type": "markdown",
   "metadata": {},
   "source": [
    "### 3. Suite de stern"
   ]
  },
  {
   "cell_type": "code",
   "execution_count": 29,
   "metadata": {},
   "outputs": [
    {
     "data": {
      "text/plain": [
       "9469"
      ]
     },
     "execution_count": 29,
     "metadata": {},
     "output_type": "execute_result"
    }
   ],
   "source": [
    "def stern(N):\n",
    "    n = N//2\n",
    "    s = [0,1]\n",
    "    k =1\n",
    "    while k<=n:\n",
    "        s.append(s[k])\n",
    "        s.append(s[k]+s[k+1])\n",
    "        k += 1\n",
    "    return s[N]\n",
    "stern(10000001)"
   ]
  },
  {
   "cell_type": "markdown",
   "metadata": {},
   "source": [
    "# EXERCICE 2"
   ]
  },
  {
   "cell_type": "markdown",
   "metadata": {},
   "source": [
    "### 1.  Definition de la fonction"
   ]
  },
  {
   "cell_type": "code",
   "execution_count": 126,
   "metadata": {},
   "outputs": [],
   "source": [
    "from decimal import Decimal\n",
    "def NewtonZ(f, x_0, n):\n",
    "    def f_prime(f, x, h=Decimal(10)**-3):\n",
    "        return (f(x+h)-f(x))/h\n",
    "    x_n = x_0\n",
    "    for i in range(n):\n",
    "        x_n = x_n - (f(x_n))/f_prime(f, x_n)\n",
    "    return x_n"
   ]
  },
  {
   "cell_type": "markdown",
   "metadata": {},
   "source": [
    "#### 2. Iterations pour $f(x) = x^2 -2$"
   ]
  },
  {
   "cell_type": "code",
   "execution_count": 32,
   "metadata": {},
   "outputs": [],
   "source": [
    "# prenant f(x) = x^2 -2. La suite converge vers racine de 2\n",
    "f = lambda x: Decimal(x)**2 - 2"
   ]
  },
  {
   "cell_type": "code",
   "execution_count": 33,
   "metadata": {},
   "outputs": [
    {
     "data": {
      "text/plain": [
       "Decimal('1.414213562373095048801688724')"
      ]
     },
     "execution_count": 33,
     "metadata": {},
     "output_type": "execute_result"
    }
   ],
   "source": [
    "NewtonZ(f, 1, 100)"
   ]
  },
  {
   "cell_type": "code",
   "execution_count": 35,
   "metadata": {},
   "outputs": [
    {
     "data": {
      "text/plain": [
       "1.4142135623730951"
      ]
     },
     "execution_count": 35,
     "metadata": {},
     "output_type": "execute_result"
    }
   ],
   "source": [
    "# Avec la fonction interne de python\n",
    "pow(2, 1/2)"
   ]
  },
  {
   "cell_type": "markdown",
   "metadata": {},
   "source": [
    "## Exercice 3"
   ]
  },
  {
   "cell_type": "markdown",
   "metadata": {},
   "source": [
    "#### 1. Implementation de la fonction de Sympson"
   ]
  },
  {
   "cell_type": "code",
   "execution_count": 36,
   "metadata": {},
   "outputs": [],
   "source": [
    "def Simpson(f, a, b):\n",
    "    SUM = f(a) + 4*f((a+b)/2) + f(b)\n",
    "    return (b-a)*SUM/6"
   ]
  },
  {
   "cell_type": "markdown",
   "metadata": {},
   "source": [
    "#### 2. Implementation de la fonction de Sympson composite"
   ]
  },
  {
   "cell_type": "code",
   "execution_count": 129,
   "metadata": {},
   "outputs": [],
   "source": [
    "def SimpsonComposite(f, a, b, N=100):\n",
    "    a, b = Decimal(min(a,b)), Decimal(max(a,b))\n",
    "    SUM = 0\n",
    "    h = Decimal((b-a)/N)\n",
    "    for k in range(N):\n",
    "        SUM += f(a+k*h) + 4*f(a + (k+Decimal(1/2))*h) + f(a+(k+1)*h)\n",
    "    return h*Decimal(SUM)/6"
   ]
  },
  {
   "cell_type": "markdown",
   "metadata": {},
   "source": [
    "### Utilisation de Simpson Composite"
   ]
  },
  {
   "cell_type": "code",
   "execution_count": 111,
   "metadata": {},
   "outputs": [],
   "source": [
    "import math"
   ]
  },
  {
   "cell_type": "code",
   "execution_count": 112,
   "metadata": {},
   "outputs": [],
   "source": [
    "f1 = lambda x : math.cos((1)+math.pow((math.e), (x)**2))\n",
    "f2 = lambda x : (math.sin((1)+(x)**2))/((math.e)**2+2*math.cos((x))+(math.tan((x)))**2)"
   ]
  },
  {
   "cell_type": "code",
   "execution_count": 118,
   "metadata": {},
   "outputs": [],
   "source": [
    "# Integral I1\n",
    "def f1(x):\n",
    "    x = Decimal(x)\n",
    "    output = Decimal(1)+Decimal(math.e)**(Decimal(x)**2)\n",
    "    return Decimal(math.cos(output))"
   ]
  },
  {
   "cell_type": "code",
   "execution_count": 119,
   "metadata": {},
   "outputs": [],
   "source": [
    "# Integral I2\n",
    "def f2(x):\n",
    "    x = Decimal(x)\n",
    "    numerator = Decimal(math.sin(1+x**2))\n",
    "    denomiator = Decimal(math.e)**(x**2)\n",
    "    denomiator += Decimal(2*math.cos(x)) + Decimal((math.tan(x))**2)\n",
    "    return numerator/denomiator"
   ]
  },
  {
   "cell_type": "code",
   "execution_count": 121,
   "metadata": {},
   "outputs": [],
   "source": [
    "I1 = SimpsonComposite(f1, 0, math.pi, 10)\n",
    "I2 = SimpsonComposite(f2, 0, 1, 10)"
   ]
  },
  {
   "cell_type": "code",
   "execution_count": 122,
   "metadata": {},
   "outputs": [
    {
     "data": {
      "text/plain": [
       "(Decimal('-0.6841543736637242565497988762'),\n",
       " Decimal('0.2592714726317215056114980175'))"
      ]
     },
     "execution_count": 122,
     "metadata": {},
     "output_type": "execute_result"
    }
   ],
   "source": [
    "I1, I2"
   ]
  }
 ],
 "metadata": {
  "kernelspec": {
   "display_name": "Python 3.8.8 ('base')",
   "language": "python",
   "name": "python3"
  },
  "language_info": {
   "codemirror_mode": {
    "name": "ipython",
    "version": 3
   },
   "file_extension": ".py",
   "mimetype": "text/x-python",
   "name": "python",
   "nbconvert_exporter": "python",
   "pygments_lexer": "ipython3",
   "version": "3.8.8"
  },
  "orig_nbformat": 4,
  "vscode": {
   "interpreter": {
    "hash": "105d166f9a25b09cdb12f585dc812aa6e3b93394f3737cf45fc54c58a30387fd"
   }
  }
 },
 "nbformat": 4,
 "nbformat_minor": 2
}
